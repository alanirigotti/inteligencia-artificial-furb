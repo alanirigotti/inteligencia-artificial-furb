{
  "nbformat": 4,
  "nbformat_minor": 0,
  "metadata": {
    "colab": {
      "provenance": []
    },
    "kernelspec": {
      "name": "python3",
      "display_name": "Python 3"
    },
    "language_info": {
      "name": "python"
    }
  },
  "cells": [
    {
      "cell_type": "markdown",
      "source": [
        "# Matriz\n",
        "\n"
      ],
      "metadata": {
        "id": "ZT4wH6G5Ube-"
      }
    },
    {
      "cell_type": "code",
      "source": [
        "import numpy as np\n",
        "import matplotlib.pyplot as plt\n",
        "import random\n",
        "from google.colab import output\n",
        "\n",
        "def gerar_matriz():\n",
        "    matriz = [[1, 1, 1, 1, 1, 1],\n",
        "              [1, random.choice([0, 2]), random.choice([0, 2]), random.choice([0, 2]), random.choice([0, 2]), 1],\n",
        "              [1, random.choice([0, 2]), random.choice([0, 2]), random.choice([0, 2]), random.choice([0, 2]), 1],\n",
        "              [1, random.choice([0, 2]), random.choice([0, 2]), random.choice([0, 2]), random.choice([0, 2]), 1],\n",
        "              [1, random.choice([0, 2]), random.choice([0, 2]), random.choice([0, 2]), random.choice([0, 2]), 1],\n",
        "              [1, 1, 1, 1, 1,  1]]\n",
        "    return matriz\n",
        "\n",
        "def posicao_agente():\n",
        "    # posAPAx = random.randint(1, 4)\n",
        "    # posAPAy = random.randint(1, 4)\n",
        "    posAPAy = 1\n",
        "    posAPAx = 1\n",
        "    return posAPAx, posAPAy\n",
        "\n",
        "    # Exibe o ambiente com com as coordenadas do agente\n",
        "def exibir(matriz, posAPAx, posAPAy):\n",
        "    output.clear()\n",
        "    plt.imshow(matriz, 'gray')  # Mostra a matriz do ambiente em tons de cinza\n",
        "    plt.nipy_spectral()  # Altera o esquema de cores\n",
        "\n",
        "    # Coloca o agente no ambiente\n",
        "    plt.plot(posAPAy, posAPAx, marker='o', color='r', ls='')  # Marca a posição do agente\n",
        "\n",
        "    plt.show(block=False)  # Exibe o ambiente sem bloquear a execução do código\n",
        "\n",
        "    # Pausa a execução do código por 0.5 segundos para facilitar a visualização\n",
        "    plt.pause(0.5)\n",
        "    plt.clf()  # Limpa a figura"
      ],
      "metadata": {
        "id": "cYBEYubfUgMe"
      },
      "execution_count": null,
      "outputs": []
    },
    {
      "cell_type": "markdown",
      "source": [
        "# Agente - Ações\n"
      ],
      "metadata": {
        "id": "QjcWoIsqiOeR"
      }
    },
    {
      "cell_type": "code",
      "source": [
        "def estadoAtual(matriz, posicaoX, posicaoY):\n",
        "    return matriz[posicaoX][posicaoY]\n",
        "\n",
        "def executarAcao(matriz, percepcao, acao):\n",
        "    posicaoX = percepcao[0]\n",
        "    posicaoY = percepcao[1]\n",
        "\n",
        "    if acao == 'acima':\n",
        "        posicaoX = posicaoX - 1\n",
        "    elif acao == 'abaixo':\n",
        "        posicaoX = posicaoX + 1\n",
        "    elif acao == 'esquerda':\n",
        "        posicaoY = posicaoY - 1\n",
        "    elif acao == 'direita':\n",
        "        posicaoY = posicaoY + 1\n",
        "    elif acao == 'aspirar':\n",
        "        matriz[posicaoX][posicaoY] = 0\n",
        "\n",
        "    estado = estadoAtual(matriz, posicaoX, posicaoY)\n",
        "\n",
        "    percepcao = [posicaoX, posicaoY, estado]\n",
        "    return percepcao"
      ],
      "metadata": {
        "id": "UcFqoNWRh3bx"
      },
      "execution_count": null,
      "outputs": []
    },
    {
      "cell_type": "markdown",
      "source": [
        "# Agente Reativo Simples"
      ],
      "metadata": {
        "id": "xIZSs2HVUXnu"
      }
    },
    {
      "cell_type": "code",
      "source": [
        "def funcaoMapear():\n",
        "    mapa = [['direita', 'abaixo',   'abaixo',   'abaixo',   'abaixo',   'esquerda'],\n",
        "            ['direita', 'direita',  'direita',  'direita',  'abaixo',   'esquerda'],\n",
        "            ['direita', 'acima',    'abaixo',   'esquerda', 'esquerda', 'esquerda'],\n",
        "            ['direita', 'acima',    'direita',  'direita',  'abaixo',   'esquerda'],\n",
        "            ['direita', 'acima',    'esquerda', 'esquerda', 'esquerda', 'esquerda'],\n",
        "            ['direita', 'acima',    'acima',    'acima',    'acima',    'esquerda']]\n",
        "    return mapa\n",
        "\n",
        "def agenteReativoSimples(matriz, percepcao): # retorna a acao que o robo deve tomar\n",
        "    posicaoX = percepcao[0]\n",
        "    posicaoY = percepcao[1]\n",
        "    estado = estadoAtual(matriz, posicaoX, posicaoY)\n",
        "    if(estado == 2):\n",
        "        return 'aspirar'\n",
        "    else:\n",
        "        mapa = funcaoMapear()\n",
        "        return mapa[posicaoX][posicaoY]"
      ],
      "metadata": {
        "id": "CG4YRmbJiF9N"
      },
      "execution_count": null,
      "outputs": []
    },
    {
      "cell_type": "markdown",
      "source": [
        "# Principal - Agente Reativo Simples\n",
        "\n"
      ],
      "metadata": {
        "id": "bNoGXfk_mEmP"
      }
    },
    {
      "cell_type": "code",
      "source": [
        "# Função principal\n",
        "matriz = gerar_matriz()\n",
        "\n",
        "posAPAx, posAPAy = posicao_agente()\n",
        "estado = estadoAtual(matriz, posAPAx, posAPAy)\n",
        "percepcao = [posAPAx, posAPAy, estado]\n",
        "\n",
        "exibir(matriz, posAPAx, posAPAy)\n",
        "\n",
        "while False:\n",
        "  percepcao = executarAcao(matriz, percepcao, agenteReativoSimples(matriz, percepcao))\n",
        "  exibir(matriz, percepcao[0], percepcao[1])"
      ],
      "metadata": {
        "id": "axUWCYkWl_-h",
        "colab": {
          "base_uri": "https://localhost:8080/",
          "height": 447
        },
        "outputId": "fb6fb1bd-5fae-4402-baf9-143390ce989e"
      },
      "execution_count": null,
      "outputs": [
        {
          "output_type": "display_data",
          "data": {
            "text/plain": [
              "<Figure size 640x480 with 1 Axes>"
            ],
            "image/png": "[encoded data removed]"
          },
          "metadata": {}
        },
        {
          "output_type": "display_data",
          "data": {
            "text/plain": [
              "<Figure size 640x480 with 0 Axes>"
            ]
          },
          "metadata": {}
        }
      ]
    },
    {
      "cell_type": "code",
      "source": [
        "# Responda: A) A sua solução é extensível para um mundo 3 x 3? E para um mundo 6 x 6?\n",
        "\n",
        "# Só é possível a partir da refatoração do código das ações da matriz para a dimensão desejada, assim o robô terá seu percurso definido."
      ],
      "metadata": {
        "id": "vvyR3xZAJSm6"
      },
      "execution_count": null,
      "outputs": []
    },
    {
      "cell_type": "markdown",
      "source": [
        "# Agente Orientado a Objetivo"
      ],
      "metadata": {
        "id": "kAgRszhEEDxA"
      }
    },
    {
      "cell_type": "code",
      "source": [
        "def agenteObjetivo(matriz, percepcao):\n",
        "    posicaoX = percepcao[0]\n",
        "    posicaoY = percepcao[1]\n",
        "    estado = estadoAtual(matriz, posicaoX, posicaoY)\n",
        "\n",
        "    if(estado == 2):\n",
        "        return 'aspirar'\n",
        "\n",
        "    ambiente = np.array(matriz)\n",
        "    sujeirasX, sujeirasY = np.where(ambiente == 2)\n",
        "\n",
        "    posicaoSujeiraMaisProximaX = sujeirasX[0]\n",
        "    posicaoSujeiraMaisProximaY = sujeirasY[0]\n",
        "\n",
        "    diferenca = abs(posicaoX - posicaoSujeiraMaisProximaX) + abs(posicaoY - posicaoSujeiraMaisProximaY)\n",
        "\n",
        "    for i in range(len(sujeirasY)):\n",
        "      if diferenca > abs(posicaoY - sujeirasY[i]) + abs(posicaoX - sujeirasX[i]):\n",
        "        diferenca = abs(posicaoY - sujeirasY[i]) + abs(posicaoX - sujeirasX[i])\n",
        "\n",
        "        posicaoSujeiraMaisProximaX = sujeirasX[i]\n",
        "        posicaoSujeiraMaisProximaY = sujeirasY[i]\n",
        "\n",
        "    if posicaoX - posicaoSujeiraMaisProximaX > 0:\n",
        "      return 'acima'\n",
        "    elif posicaoX - posicaoSujeiraMaisProximaX < 0:\n",
        "      return 'abaixo'\n",
        "    elif posicaoY - posicaoSujeiraMaisProximaY > 0:\n",
        "      return 'esquerda'\n",
        "    elif posicaoY - posicaoSujeiraMaisProximaY < 0:\n",
        "      return 'direita'\n",
        "    else:\n",
        "      return 'NoOp'\n",
        "\n",
        "def checkObj(matriz):\n",
        "    ambiente = np.array(matriz)\n",
        "    return 1 if 2 in ambiente else 0"
      ],
      "metadata": {
        "id": "BP4E4eZhEGZE"
      },
      "execution_count": null,
      "outputs": []
    },
    {
      "cell_type": "markdown",
      "source": [
        "# Principal - Agente Baseado em Objetivo"
      ],
      "metadata": {
        "id": "D4AzZymBD4qq"
      }
    },
    {
      "cell_type": "code",
      "source": [
        "# Função principal\n",
        "matriz = gerar_matriz()\n",
        "\n",
        "posAPAx, posAPAy = posicao_agente()\n",
        "estado = estadoAtual(matriz, posAPAx, posAPAy)\n",
        "percepcao = [posAPAx, posAPAy, estado]\n",
        "\n",
        "exibir(matriz, posAPAx, posAPAy)\n",
        "\n",
        "pontos = 0\n",
        "\n",
        "while checkObj(matriz):\n",
        "  percepcao = executarAcao(matriz, percepcao, agenteObjetivo(matriz, percepcao))\n",
        "  exibir(matriz, percepcao[0], percepcao[1])\n",
        "\n",
        "  pontos += 1\n",
        "\n",
        "print('Pontos:', pontos)"
      ],
      "metadata": {
        "colab": {
          "base_uri": "https://localhost:8080/",
          "height": 465
        },
        "id": "67FGVFiMD9zQ",
        "outputId": "783fd713-afe5-4cee-a9b6-43002e7f226c"
      },
      "execution_count": null,
      "outputs": [
        {
          "output_type": "display_data",
          "data": {
            "text/plain": [
              "<Figure size 640x480 with 1 Axes>"
            ],
            "image/png": "[encoded data removed]"
          },
          "metadata": {}
        },
        {
          "output_type": "stream",
          "name": "stdout",
          "text": [
            "Pontos: 16\n"
          ]
        },
        {
          "output_type": "display_data",
          "data": {
            "text/plain": [
              "<Figure size 640x480 with 0 Axes>"
            ]
          },
          "metadata": {}
        }
      ]
    },
    {
      "cell_type": "code",
      "source": [
        "# Responda: B) É possível ter todo o espaço limpo efetivamente? Justifique sua resposta.\n",
        "\n",
        "# Sim, o robô faz o mapeamento da matriz com um for procurando onde tem 2, ou seja, local está sujo. Pode haver melhorias pois no momento ele apenas calcula a distância da próxima sujeira e não de todo o ambiente."
      ],
      "metadata": {
        "id": "wO4AW_wJI3TZ"
      },
      "execution_count": null,
      "outputs": []
    }
  ]
}